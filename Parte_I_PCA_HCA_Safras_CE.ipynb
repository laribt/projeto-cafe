{
 "cells": [
  {
   "cell_type": "markdown",
   "id": "46d82e75",
   "metadata": {},
   "source": [
    "# Parte I: Avaliação das Diferenças entre Safras (Cerrado Mineiro)"
   ]
  },
  {
   "cell_type": "code",
   "execution_count": null,
   "id": "d513ff15",
   "metadata": {},
   "outputs": [],
   "source": [
    "import pandas as pd\n",
    "import numpy as np\n",
    "from sklearn.decomposition import PCA\n",
    "from scipy.cluster.hierarchy import dendrogram, linkage\n",
    "from matplotlib import pyplot as plt\n",
    "import seaborn as sns\n",
    "\n",
    "# Carregar os dados\n",
    "dadoscafe= pd.read_excel(\"Dados_disciplina.xlsx\")\n",
    "dadoscafe=dadoscafe.iloc[:,1:]\n",
    "dadoscafe = pd.DataFrame(dadoscafe)\n",
    "dadoscafe\n",
    "\n"
   ]
  },
  {
   "cell_type": "code",
   "execution_count": null,
   "id": "f7aa70bb",
   "metadata": {},
   "outputs": [],
   "source": [
    "from sklearn.preprocessing import StandardScaler\n",
    "\n",
    "# Converta todos os nomes das colunas para string\n",
    "dadoscafe.columns = dadoscafe.columns.astype(str)\n",
    "\n",
    "scaler = StandardScaler()\n",
    "dadospp = scaler.fit_transform(dadoscafe)\n",
    "dadospp = pd.DataFrame(dadospp, columns=dadoscafe.columns)\n",
    "dadospp"
   ]
  },
  {
   "cell_type": "code",
   "execution_count": null,
   "id": "b79933ab",
   "metadata": {},
   "outputs": [],
   "source": [
    "comprimentos_onda = np.linspace(450, 231, dadoscafe.shape[1])"
   ]
  },
  {
   "cell_type": "code",
   "execution_count": null,
   "id": "0341bc90",
   "metadata": {},
   "outputs": [],
   "source": [
    "# Criar a lista com os rótulos\n",
    "classes = ['Safra 2018'] * 45 + ['Safra 2019'] * 52\n",
    "\n",
    "# Criar o DataFrame\n",
    "df_safra = pd.DataFrame(classes, columns=['Safra'])\n",
    "\n",
    "# Visualizar\n",
    "print(df_safra)\n"
   ]
  },
  {
   "cell_type": "markdown",
   "id": "db6a8d80",
   "metadata": {},
   "source": [
    "## PCA colorido por safra"
   ]
  },
  {
   "cell_type": "code",
   "execution_count": null,
   "id": "c64f8caa",
   "metadata": {},
   "outputs": [],
   "source": [
    "# Corrigido: usar PCA diretamente, sem reimportar módulos já importados\n",
    "\n",
    "# Preencher NaNs com a média de cada coluna\n",
    "dadospp_sem_nan = dadospp.fillna(dadospp.mean())\n",
    "\n",
    "modelo_pca = PCA(n_components=2)\n",
    "X_pca = modelo_pca.fit_transform(dadospp_sem_nan)\n",
    "\n",
    "# Variância explicada\n",
    "var_explicada = modelo_pca.explained_variance_ratio_ * 100\n",
    "print(f'Variância explicada: PC1 = {var_explicada[0]:.2f}%, PC2 = {var_explicada[1]:.2f}%')\n",
    "\n",
    "# Criar vetor de safra para colorir os pontos\n",
    "safras = ['2018'] * 45 + ['2019'] * 52\n",
    "safras = np.array(safras)\n",
    "\n",
    "plt.figure(figsize=(8,6))\n",
    "for safra, cor in zip(['2018', '2019'], ['blue', 'green']):\n",
    "    plt.scatter(X_pca[safras == safra, 0], X_pca[safras == safra, 1], label=f'Safra {safra}', alpha=0.7, c=cor)\n",
    "plt.xlabel(f'PC1 ({var_explicada[0]:.2f}%)')\n",
    "plt.ylabel(f'PC2 ({var_explicada[1]:.2f}%)')\n",
    "plt.title('PCA - Safras 2018 vs 2019')\n",
    "plt.legend()\n",
    "plt.grid(True)\n",
    "plt.show()\n",
    "\n"
   ]
  },
  {
   "cell_type": "code",
   "execution_count": null,
   "id": "1d4caaaa",
   "metadata": {},
   "outputs": [],
   "source": [
    "# Obter os loadings do PCA\n",
    "loadings = modelo_pca.components_.T  # Transposta para ficar variáveis x PCs\n",
    "\n",
    "# Plot dos loadings para PC1\n",
    "plt.figure(figsize=(10,6))\n",
    "plt.plot(comprimentos_onda,loadings[:, 0])\n",
    "plt.title('Loadings do PC1')\n",
    "plt.xlabel('Variáveis (comprimentos de onda)')\n",
    "plt.ylabel('Contribuição')\n",
    "plt.grid(True)\n",
    "plt.show()\n",
    "\n",
    "# Plot dos loadings para PC2\n",
    "plt.figure(figsize=(10,6))\n",
    "plt.plot(comprimentos_onda,loadings[:, 1])\n",
    "plt.title('Loadings do PC2')\n",
    "plt.xlabel('Variáveis (comprimentos de onda)')\n",
    "plt.ylabel('Contribuição')\n",
    "plt.grid(True)\n",
    "plt.show()\n"
   ]
  },
  {
   "cell_type": "markdown",
   "id": "d3eaf5ae",
   "metadata": {},
   "source": [
    "## Dendrograma (HCA) com safra nos rótulos"
   ]
  },
  {
   "cell_type": "code",
   "execution_count": null,
   "id": "812f1ee3",
   "metadata": {},
   "outputs": [],
   "source": [
    "# Preencher NaNs com a média de cada coluna\n",
    "dadospp_sem_nan = dadospp.fillna(dadospp.mean())\n",
    "\n",
    "# Calcular linkage (ward é o mais usado)\n",
    "linked = linkage(dadospp_sem_nan, method='ward')\n",
    "\n",
    "# Plot do dendrograma\n",
    "plt.figure(figsize=(10, 7))\n",
    "dendrogram(linked, labels=safras, leaf_rotation=90)\n",
    "plt.title('Dendrograma')\n",
    "plt.xlabel('Amostras')\n",
    "plt.ylabel('Distância')\n",
    "plt.show()\n"
   ]
  }
 ],
 "metadata": {
  "kernelspec": {
   "display_name": "base",
   "language": "python",
   "name": "python3"
  },
  "language_info": {
   "codemirror_mode": {
    "name": "ipython",
    "version": 3
   },
   "file_extension": ".py",
   "mimetype": "text/x-python",
   "name": "python",
   "nbconvert_exporter": "python",
   "pygments_lexer": "ipython3",
   "version": "3.12.7"
  }
 },
 "nbformat": 4,
 "nbformat_minor": 5
}
