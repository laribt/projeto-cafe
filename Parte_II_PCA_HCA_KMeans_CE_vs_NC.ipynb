{
 "cells": [
  {
   "cell_type": "markdown",
   "id": "5a6e0f3f",
   "metadata": {},
   "source": [
    "# Parte II: Análise Exploratória - CE vs NC"
   ]
  },
  {
   "cell_type": "code",
   "execution_count": null,
   "id": "4601d703",
   "metadata": {},
   "outputs": [],
   "source": [
    "import pandas as pd\n",
    "import numpy as np\n",
    "from sklearn.decomposition import PCA\n",
    "from sklearn.cluster import KMeans\n",
    "from scipy.cluster.hierarchy import dendrogram, linkage\n",
    "from matplotlib import pyplot as plt\n",
    "import seaborn as sns\n",
    "\n",
    "# Carregar dados\n",
    "df = pd.read_excel(\"Dados_disciplina.xlsx\")\n",
    "labels = df.iloc[:, 0].values\n",
    "X = df.iloc[:, 1:].astype(float).values\n"
   ]
  },
  {
   "cell_type": "markdown",
   "id": "e7c75652",
   "metadata": {},
   "source": [
    "## PCA para CE e NC"
   ]
  },
  {
   "cell_type": "code",
   "execution_count": null,
   "id": "f86cdb1a",
   "metadata": {},
   "outputs": [],
   "source": [
    "pca = PCA(n_components=2)\n",
    "X_pca = pca.fit_transform(X)\n",
    "\n",
    "plt.figure()\n",
    "for lab in np.unique(labels):\n",
    "    idx = labels == lab\n",
    "    plt.scatter(X_pca[idx, 0], X_pca[idx, 1], label=lab)\n",
    "plt.xlabel(\"PC1\")\n",
    "plt.ylabel(\"PC2\")\n",
    "plt.title(\"PCA - CE vs NC\")\n",
    "plt.legend()\n",
    "plt.grid(True)\n",
    "plt.show()\n"
   ]
  },
  {
   "cell_type": "markdown",
   "id": "247b5266",
   "metadata": {},
   "source": [
    "## K-Means com k=2"
   ]
  },
  {
   "cell_type": "code",
   "execution_count": null,
   "id": "d093e6b6",
   "metadata": {},
   "outputs": [],
   "source": [
    "kmeans = KMeans(n_clusters=2, random_state=0)\n",
    "clusters = kmeans.fit_predict(X)\n",
    "\n",
    "plt.figure()\n",
    "plt.scatter(X_pca[:, 0], X_pca[:, 1], c=clusters, cmap='Set1')\n",
    "plt.title(\"K-means (k=2) sobre PCA\")\n",
    "plt.xlabel(\"PC1\")\n",
    "plt.ylabel(\"PC2\")\n",
    "plt.grid(True)\n",
    "plt.show()\n"
   ]
  },
  {
   "cell_type": "markdown",
   "id": "6beb74ed",
   "metadata": {},
   "source": [
    "## HCA com rótulos CE/NC"
   ]
  },
  {
   "cell_type": "code",
   "execution_count": null,
   "id": "540e05ab",
   "metadata": {},
   "outputs": [],
   "source": [
    "linkage_matrix = linkage(X, method='ward')\n",
    "plt.figure(figsize=(12, 6))\n",
    "dendrogram(linkage_matrix, labels=labels)\n",
    "plt.title(\"Dendrograma - CE vs NC\")\n",
    "plt.xlabel(\"Amostras\")\n",
    "plt.ylabel(\"Distância\")\n",
    "plt.xticks(rotation=90)\n",
    "plt.tight_layout()\n",
    "plt.show()\n"
   ]
  }
 ],
 "metadata": {
  "language_info": {
   "name": "python"
  }
 },
 "nbformat": 4,
 "nbformat_minor": 5
}
